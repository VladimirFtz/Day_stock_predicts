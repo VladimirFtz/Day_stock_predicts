{
 "cells": [
  {
   "cell_type": "markdown",
   "metadata": {
    "id": "y1EgKQaX5TeP"
   },
   "source": [
    "# Загружаем нужные пакеты"
   ]
  },
  {
   "cell_type": "code",
   "execution_count": 128,
   "metadata": {
    "colab": {
     "base_uri": "https://localhost:8080/"
    },
    "executionInfo": {
     "elapsed": 3041,
     "status": "ok",
     "timestamp": 1670498370282,
     "user": {
      "displayName": "Владимир Фитузов",
      "userId": "01966531596624912703"
     },
     "user_tz": -180
    },
    "id": "mR99DE1R6J7C",
    "outputId": "729be749-8ff3-4198-e9bd-f0db1420643b"
   },
   "outputs": [],
   "source": [
    "#%tensorflow_version 2.x\n",
    "from tensorflow.keras.datasets import fashion_mnist\n",
    "from tensorflow.keras.models import Sequential\n",
    "from tensorflow.keras.layers import Dense, Dropout\n",
    "from tensorflow.keras import utils\n",
    "from keras import regularizers\n",
    "import numpy as np\n",
    "import pandas as pd\n",
    "from sklearn.metrics import mean_absolute_error\n",
    "\n",
    "import matplotlib.pyplot as plt\n",
    "import seaborn as sns\n",
    "sns.set_style('whitegrid')\n",
    "import warnings\n",
    "warnings.simplefilter(action='ignore')\n",
    "\n",
    "from sklearn.metrics import mean_squared_error\n",
    "from sklearn.model_selection import cross_val_score, GridSearchCV, KFold, RandomizedSearchCV, train_test_split\n",
    "import math\n",
    "import sklearn.model_selection as ms\n",
    "import sklearn.metrics as sklm\n",
    "from scipy import stats\n",
    "from scipy.stats import norm, skew #for some statistics\n",
    "from matplotlib.colors import ListedColormap\n",
    "from sklearn import model_selection, datasets, linear_model, metrics\n",
    "\n",
    "# Models\n",
    "from sklearn.ensemble import RandomForestRegressor, GradientBoostingRegressor, AdaBoostRegressor, BaggingRegressor\n",
    "from sklearn.kernel_ridge import KernelRidge\n",
    "from sklearn.linear_model import Ridge, RidgeCV\n",
    "from sklearn.linear_model import ElasticNet, ElasticNetCV\n",
    "from sklearn.svm import SVR\n",
    "from sklearn.ensemble import StackingRegressor\n",
    "import xgboost as xgb"
   ]
  },
  {
   "cell_type": "markdown",
   "metadata": {
    "id": "-ni9bEvz6XrV"
   },
   "source": [
    "# Загружаем данные"
   ]
  },
  {
   "cell_type": "code",
   "execution_count": 129,
   "metadata": {
    "colab": {
     "base_uri": "https://localhost:8080/"
    },
    "executionInfo": {
     "elapsed": 864,
     "status": "ok",
     "timestamp": 1670498372062,
     "user": {
      "displayName": "Владимир Фитузов",
      "userId": "01966531596624912703"
     },
     "user_tz": -180
    },
    "id": "RssxukqQD4ME",
    "outputId": "8e019a62-b45d-4fa8-e2bd-17da403b6ab3"
   },
   "outputs": [
    {
     "name": "stdout",
     "output_type": "stream",
     "text": [
      "       LKOH     IMOEX      SBER     SBERP      RTKM     SNGSP      SNGS  \\\n",
      "0  2.340807  2.949601  6.279198  4.546525  0.611195  0.009534  3.036632   \n",
      "1 -4.916309 -3.919375 -2.585650 -2.861649 -1.232726 -3.527169 -5.833468   \n",
      "2  0.322581  0.694355  2.189781  1.020645  0.532336 -0.098814 -0.469241   \n",
      "\n",
      "      RTKMP      GMKN      MSNG  ...      PIKK      TRMK      VTBR      URKA  \\\n",
      "0  1.752109  3.741497 -0.759124  ...  3.705556  1.302460  6.012270 -1.239567   \n",
      "1 -1.488095 -4.371585 -2.235952  ...  2.676738 -3.316327 -0.810185 -7.655952   \n",
      "2 -0.302115  1.142857 -2.226903  ... -0.869565  1.424802  1.516919 -1.365963   \n",
      "\n",
      "       MVID      AFKS      LSRG      HYDR      FEES      IRAO  \n",
      "0  0.000000  3.244147  8.108108 -0.875421  4.237288  0.000000  \n",
      "1  0.558659 -3.466148 -6.250000 -0.883152 -3.794038  1.500000  \n",
      "2 -1.666667 -0.003356 -6.666667  0.342700 -1.971831  2.463054  \n",
      "\n",
      "[3 rows x 38 columns]\n"
     ]
    }
   ],
   "source": [
    "#считываю данные из файла\n",
    "original_data = pd.read_csv('37 Акций 17.07.2008-29.12.2017.txt')\n",
    "original_data = pd.DataFrame(original_data)\n",
    "original_data.drop(['<DATE>'], axis='columns',  inplace=True)\n",
    "#data = pd.DataFrame(raw_data)\n",
    "print(original_data[0:3])"
   ]
  },
  {
   "cell_type": "markdown",
   "metadata": {
    "id": "H4HOtD9dBqcb"
   },
   "source": [
    "# Сравниваем Отклоения и прогнозы моделей"
   ]
  },
  {
   "cell_type": "code",
   "execution_count": 130,
   "metadata": {
    "colab": {
     "base_uri": "https://localhost:8080/"
    },
    "executionInfo": {
     "elapsed": 5286,
     "status": "ok",
     "timestamp": 1670498574061,
     "user": {
      "displayName": "Владимир Фитузов",
      "userId": "01966531596624912703"
     },
     "user_tz": -180
    },
    "id": "C0YWPLAmaTSP",
    "outputId": "15072209-2e9e-46cb-a2c4-dfbff7adde10"
   },
   "outputs": [
    {
     "name": "stdout",
     "output_type": "stream",
     "text": [
      "LKOH\n",
      "linear_scoring: 1.5264036273023565, std: 0.7032711108628704\n",
      "lasso_scoring: 1.4658239931590042, std: 0.720117650561095\n",
      "IMOEX\n",
      "linear_scoring: 1.289645976291958, std: 0.6703225468992173\n",
      "lasso_scoring: 1.2304832253841496, std: 0.6777502075639743\n",
      "SBER\n",
      "linear_scoring: 1.9502431271485356, std: 0.8910908972774835\n",
      "lasso_scoring: 1.8769985865659191, std: 0.8719030130916617\n",
      "SBERP\n",
      "linear_scoring: 1.9481358839081853, std: 0.8705421637526611\n",
      "lasso_scoring: 1.882364447311425, std: 0.866047793888295\n",
      "RTKM\n",
      "linear_scoring: 1.53856632232905, std: 0.4589349892416075\n",
      "lasso_scoring: 1.4568115577125718, std: 0.4125396014499972\n",
      "SNGSP\n",
      "linear_scoring: 1.6226577298288856, std: 0.531553267055402\n",
      "lasso_scoring: 1.5456725225850527, std: 0.5321288505954388\n",
      "SNGS\n",
      "linear_scoring: 1.707910459455147, std: 0.7293164215348011\n",
      "lasso_scoring: 1.6251661189251358, std: 0.7305990095979806\n",
      "RTKMP\n",
      "linear_scoring: 1.5012761230808256, std: 0.8138455880803253\n",
      "lasso_scoring: 1.4239327898857934, std: 0.8095501843009645\n",
      "GMKN\n",
      "linear_scoring: 1.772837720395804, std: 0.8374072120846179\n",
      "lasso_scoring: 1.7184623896691442, std: 0.8353073969136949\n",
      "MSNG\n",
      "linear_scoring: 1.7316569391678356, std: 0.5822082387756167\n",
      "lasso_scoring: 1.6340835071864384, std: 0.6019024021723709\n",
      "TRNFP\n",
      "linear_scoring: 2.0020343954812687, std: 0.84449271956093\n",
      "lasso_scoring: 1.9243468455509318, std: 0.8439171934540244\n",
      "AFLT\n",
      "linear_scoring: 1.6655192365284435, std: 0.3034756818881222\n",
      "lasso_scoring: 1.6185927589407658, std: 0.274572370829856\n",
      "SIBN\n",
      "linear_scoring: 1.4289127209319816, std: 0.7684159465115031\n",
      "lasso_scoring: 1.3769941677005237, std: 0.7803141808431403\n",
      "TATN\n",
      "linear_scoring: 2.0063778446430844, std: 0.7232375533081474\n",
      "lasso_scoring: 1.908167584880766, std: 0.7330881298834052\n",
      "TATNP\n",
      "linear_scoring: 1.4590189344563214, std: 0.5240910810802873\n",
      "lasso_scoring: 1.4026781772968946, std: 0.5151765544217786\n",
      "MTSS\n",
      "linear_scoring: 1.5228193662989147, std: 0.5361938853922558\n",
      "lasso_scoring: 1.4768466746604465, std: 0.5463509301732712\n",
      "CHMF\n",
      "linear_scoring: 2.0466123690764664, std: 0.8135433131260794\n",
      "lasso_scoring: 1.974758069510959, std: 0.8271434218831178\n",
      "GAZP\n",
      "linear_scoring: 1.5803536107099834, std: 0.7018140954558367\n",
      "lasso_scoring: 1.5220379576869703, std: 0.7087271116385956\n",
      "PLZL\n",
      "linear_scoring: 1.6602591118728036, std: 0.6708129859873765\n",
      "lasso_scoring: 1.5694118223685607, std: 0.6809634663861863\n",
      "MGNT\n",
      "linear_scoring: 1.6995268026455768, std: 0.2898629837104967\n",
      "lasso_scoring: 1.6384174387457047, std: 0.2691729444709893\n",
      "ROSN\n",
      "linear_scoring: 1.7011012224215598, std: 0.7344358670934718\n",
      "lasso_scoring: 1.6055817985435756, std: 0.7403102034651299\n",
      "NVTK\n",
      "linear_scoring: 1.7737978264230378, std: 0.663827387196194\n",
      "lasso_scoring: 1.6851594451768457, std: 0.6462647092186378\n",
      "AKRN\n",
      "linear_scoring: 1.7458260221522175, std: 0.7523814711089234\n",
      "lasso_scoring: 1.6598972693718288, std: 0.7677936062408953\n",
      "NLMK\n",
      "linear_scoring: 2.194534722130463, std: 0.9252615533037265\n",
      "lasso_scoring: 2.0829410293136483, std: 0.9057888244798669\n",
      "MAGN\n",
      "linear_scoring: 2.0819903741585604, std: 0.7159014418573336\n",
      "lasso_scoring: 1.991344760402799, std: 0.7068047716730522\n",
      "ENRU\n",
      "linear_scoring: 1.6347145947854096, std: 0.5719075724368975\n",
      "lasso_scoring: 1.5428536200741385, std: 0.5783912185914768\n",
      "RASP\n",
      "linear_scoring: 2.2739462604909626, std: 0.6101755060417028\n",
      "lasso_scoring: 2.201865779072892, std: 0.6070047107124172\n",
      "OGKB\n",
      "linear_scoring: 2.2191329730732887, std: 0.7904223545090997\n",
      "lasso_scoring: 2.1132889737750027, std: 0.8022836762122895\n",
      "PIKK\n",
      "linear_scoring: 1.9437102997730833, std: 1.1187094139464566\n",
      "lasso_scoring: 1.7985958588608295, std: 1.1532325391356075\n",
      "TRMK\n",
      "linear_scoring: 2.088670397339905, std: 0.8988638478895327\n",
      "lasso_scoring: 1.9664422378952424, std: 0.897167671198477\n",
      "VTBR\n",
      "linear_scoring: 1.8088443020213005, std: 0.7759279581831027\n",
      "lasso_scoring: 1.7142152364835117, std: 0.8065524035775549\n",
      "URKA\n",
      "linear_scoring: 2.001662606698541, std: 1.076166367524576\n",
      "lasso_scoring: 1.8485806152927755, std: 1.1190715914026157\n",
      "MVID\n",
      "linear_scoring: 1.785769378537728, std: 0.5860036694190471\n",
      "lasso_scoring: 1.6507961213377604, std: 0.5842903500813517\n",
      "AFKS\n",
      "linear_scoring: 2.1755658133274385, std: 0.7276753491201376\n",
      "lasso_scoring: 2.0381269896737004, std: 0.7057804035812238\n",
      "LSRG\n",
      "linear_scoring: 1.9074917488311218, std: 0.8008329452081004\n",
      "lasso_scoring: 1.826199588737635, std: 0.791203439199253\n",
      "HYDR\n",
      "linear_scoring: 1.9120560000124995, std: 0.7065946048349763\n",
      "lasso_scoring: 1.8188975962011678, std: 0.6966917786033439\n",
      "FEES\n",
      "linear_scoring: 2.40063766105676, std: 0.7678109753335843\n",
      "lasso_scoring: 2.2722100603924913, std: 0.7882615079721003\n",
      "IRAO\n",
      "linear_scoring: 2.3662312494924604, std: 1.0491152947215814\n",
      "lasso_scoring: 2.201322883695574, std: 1.0877922816391727\n"
     ]
    }
   ],
   "source": [
    "# Оцениваем модели для подбора\n",
    "results_list = []\n",
    "for item in original_data:\n",
    "    #Выбираем целевую акцию и сдвигаем ее на день вперед относительно других\n",
    "    results = []\n",
    "    data = original_data.copy()\n",
    "    target = data[item]\n",
    "    target = np.array(target)\n",
    "    target = target[1:]\n",
    "    sigma = np.std(target)\n",
    "    mean_abs = np.abs(target).mean()\n",
    "    mean = np.mean(target)\n",
    "    \n",
    "    results.append(item)\n",
    "    results.append(mean)\n",
    "    results.append(sigma)\n",
    "    results.append(mean_abs)\n",
    "    print(item)\n",
    "    #print(mean)\n",
    "    #print(sigma)\n",
    "    #print(mean_abs)\n",
    "\n",
    "\n",
    "    #удаляем последнюю строку исходн данных чтобы получились таргеты сдвинуты на 1 день от всех данных\n",
    "    strings_count = data.shape[0]\n",
    "    data.drop([strings_count-1], axis=0,  inplace=True)\n",
    "\n",
    "    #x = data\n",
    "    #y = target\n",
    "    #x_train, x_test, y_train, y_test = train_test_split(x, y, test_size = .25)#, random_state=0)\n",
    "\n",
    "    linear_regressor = linear_model.LinearRegression()\n",
    "    linear_scoring = model_selection.cross_val_score(linear_regressor, data, target, scoring = 'neg_mean_absolute_error', cv = 5)  \n",
    "    results.append(-linear_scoring.mean())                                            \n",
    "    print('linear_scoring: {}, std: {}'.format(-linear_scoring.mean(), linear_scoring.std()))\n",
    "  \n",
    "    lasso_regressor = linear_model.Lasso()\n",
    "    lasso_scoring = model_selection.cross_val_score(lasso_regressor, data, target, scoring = 'neg_mean_absolute_error', cv = 5)\n",
    "    results.append(-lasso_scoring.mean())\n",
    "    print('lasso_scoring: {}, std: {}'.format(-lasso_scoring.mean(), lasso_scoring.std()))\n",
    "    results_list.append(results)\n",
    "    \n",
    "    '''\n",
    "    # Random Forest Regressor\n",
    "    rf = RandomForestRegressor(n_estimators=1000,\n",
    "                               max_depth=10,\n",
    "                               max_features=None,\n",
    "                               oob_score=True,\n",
    "                               random_state=42)\n",
    "    rf_scoring = model_selection.cross_val_score(rf, data, target, scoring = 'neg_mean_absolute_error', cv = 5)\n",
    "    results.append(-rf_scoring.mean())\n",
    "    print('rf_scoring: {}, std: {}'.format(-rf_scoring.mean(), rf_scoring.std()))\n",
    "    results_list.append(results)\n",
    "    '''"
   ]
  },
  {
   "cell_type": "code",
   "execution_count": 131,
   "metadata": {
    "colab": {
     "base_uri": "https://localhost:8080/",
     "height": 282
    },
    "executionInfo": {
     "elapsed": 519,
     "status": "ok",
     "timestamp": 1670498576526,
     "user": {
      "displayName": "Владимир Фитузов",
      "userId": "01966531596624912703"
     },
     "user_tz": -180
    },
    "id": "KxiYrw7szLlP",
    "outputId": "9dbb3f42-f666-45f8-95e9-8179a934a02a"
   },
   "outputs": [
    {
     "name": "stdout",
     "output_type": "stream",
     "text": [
      "     item      mean     sigma  mean_abs  linear_scoring  lasso_scoring\n",
      "0    LKOH  0.043522  2.352072  1.465152        1.526404       1.465824\n",
      "1   IMOEX  0.030652  2.068020  1.230787        1.289646       1.230483\n",
      "2    SBER  0.089412  2.991990  1.875133        1.950243       1.876999\n",
      "3   SBERP  0.108499  3.100903  1.882505        1.948136       1.882364\n",
      "4    RTKM -0.035026  2.363654  1.456995        1.538566       1.456812\n",
      "5   SNGSP  0.072234  2.482150  1.547186        1.622658       1.545673\n",
      "6    SNGS  0.039956  2.691458  1.624464        1.707910       1.625166\n",
      "7   RTKMP  0.038529  2.514549  1.421643        1.501276       1.423933\n",
      "8    GMKN  0.065629  2.696487  1.718412        1.772838       1.718462\n",
      "9    MSNG  0.026497  2.758119  1.635404        1.731657       1.634084\n",
      "10  TRNFP  0.126489  3.074320  1.923199        2.002034       1.924347\n",
      "11   AFLT  0.054184  2.357340  1.616849        1.665519       1.618593\n",
      "12   SIBN  0.037521  2.253201  1.377885        1.428913       1.376994\n",
      "13   TATN  0.088960  2.998068  1.904887        2.006378       1.908168\n",
      "14  TATNP  0.091167  2.243343  1.403938        1.459019       1.402678\n",
      "15   MTSS  0.028423  2.394028  1.476785        1.522819       1.476847\n",
      "16   CHMF  0.069311  3.036665  1.969115        2.046612       1.974758\n",
      "17   GAZP -0.007605  2.422324  1.522561        1.580354       1.522038\n",
      "18   PLZL  0.094400  2.952213  1.556676        1.660259       1.569412\n",
      "19   MGNT  0.101527  2.361111  1.634499        1.699527       1.638417\n",
      "20   ROSN  0.037612  2.660906  1.604861        1.701101       1.605582\n",
      "21   NVTK  0.084488  2.621255  1.684418        1.773798       1.685159\n",
      "22   AKRN  0.050920  2.736743  1.657924        1.745826       1.659897\n",
      "23   NLMK  0.062516  3.264479  2.067756        2.194535       2.082941\n",
      "24   MAGN  0.058689  2.962299  1.987103        2.081990       1.991345\n",
      "25   ENRU  0.008524  2.723687  1.541064        1.634715       1.542854\n",
      "26   RASP  0.021785  3.386312  2.200704        2.273946       2.201866\n",
      "27   OGKB  0.000433  3.423727  2.103783        2.219133       2.113289\n",
      "28   PIKK  0.036396  3.421948  1.788478        1.943710       1.798596\n",
      "29   TRMK  0.012725  3.295093  1.962757        2.088670       1.966442\n",
      "30   VTBR  0.015782  2.918076  1.713509        1.808844       1.714215\n",
      "31   URKA  0.015791  3.426996  1.847845        2.001663       1.848581\n",
      "32   MVID  0.078587  2.927736  1.645655        1.785769       1.650796\n",
      "33   AFKS -0.003489  3.594799  2.034151        2.175566       2.038127\n",
      "34   LSRG  0.065509  3.155227  1.820615        1.907492       1.826200\n",
      "35   HYDR  0.011226  2.869366  1.817874        1.912056       1.818898\n",
      "36   FEES  0.030659  3.658159  2.258164        2.400638       2.272210\n",
      "37   IRAO  0.100084  4.090944  2.172368        2.366231       2.201323\n"
     ]
    },
    {
     "data": {
      "text/plain": [
       "<matplotlib.legend.Legend at 0x1caac6bd940>"
      ]
     },
     "execution_count": 131,
     "metadata": {},
     "output_type": "execute_result"
    },
    {
     "data": {
      "image/png": "[encoded data removed]",
      "text/plain": [
       "<Figure size 432x288 with 1 Axes>"
      ]
     },
     "metadata": {},
     "output_type": "display_data"
    }
   ],
   "source": [
    "results = pd.DataFrame(results_list)\n",
    "results.columns = ['item', 'mean', 'sigma', 'mean_abs', 'linear_scoring', 'lasso_scoring']\n",
    "print(results)\n",
    "plt.plot(results['linear_scoring'])\n",
    "plt.plot(results['lasso_scoring'])\n",
    "plt.legend(['linear_scoring','lasso_scoring'])"
   ]
  },
  {
   "cell_type": "code",
   "execution_count": 132,
   "metadata": {
    "colab": {
     "base_uri": "https://localhost:8080/"
    },
    "executionInfo": {
     "elapsed": 11,
     "status": "ok",
     "timestamp": 1668895756586,
     "user": {
      "displayName": "Владимир Фитузов",
      "userId": "01966531596624912703"
     },
     "user_tz": -180
    },
    "id": "0ld8z43hBibp",
    "outputId": "09471e02-2ab2-4ebc-e200-271b9f900030"
   },
   "outputs": [
    {
     "name": "stdout",
     "output_type": "stream",
     "text": [
      "0.08910740142766288\n"
     ]
    }
   ],
   "source": [
    "difference_linear_lasso =  results['linear_scoring'] - results['lasso_scoring'] # Получается лассо чуть чуть лучше\n",
    "mean = np.mean(difference_linear_lasso)\n",
    "print(mean)"
   ]
  },
  {
   "cell_type": "code",
   "execution_count": 133,
   "metadata": {
    "colab": {
     "base_uri": "https://localhost:8080/",
     "height": 282
    },
    "executionInfo": {
     "elapsed": 552,
     "status": "ok",
     "timestamp": 1668895757130,
     "user": {
      "displayName": "Владимир Фитузов",
      "userId": "01966531596624912703"
     },
     "user_tz": -180
    },
    "id": "zpFLK58wCVXJ",
    "outputId": "1ef7a1a0-2162-4dfa-eac2-0a703713320e"
   },
   "outputs": [
    {
     "data": {
      "text/plain": [
       "[<matplotlib.lines.Line2D at 0x1caac706b50>]"
      ]
     },
     "execution_count": 133,
     "metadata": {},
     "output_type": "execute_result"
    },
    {
     "data": {
      "image/png": "[encoded data removed]",
      "text/plain": [
       "<Figure size 432x288 with 1 Axes>"
      ]
     },
     "metadata": {},
     "output_type": "display_data"
    }
   ],
   "source": [
    "difference = results['mean_abs'] - results['lasso_scoring']\n",
    "plt.plot(difference)"
   ]
  },
  {
   "cell_type": "markdown",
   "metadata": {},
   "source": [
    "Получается маловероятно, что линейная регрессия или лассо или случайный лес дают прогноз значимо лучше константного."
   ]
  },
  {
   "cell_type": "markdown",
   "metadata": {
    "id": "TE05T1TfsPSc"
   },
   "source": [
    "# Анализируем возможности модели для торговли"
   ]
  },
  {
   "cell_type": "code",
   "execution_count": 139,
   "metadata": {
    "id": "nJKhD3ROc0jX"
   },
   "outputs": [],
   "source": [
    "# Записываем результаты обученной модели\n",
    "all_predictions = []\n",
    "all_ansvers = []\n",
    "sigmas = []\n",
    "for item in original_data:\n",
    "    data = original_data.copy() #Выбираем целевую акцию и сдвигаем ее на день вперед относительно других\n",
    "    target = data[item]\n",
    "    target = np.array(target)\n",
    "    target = target[1:]\n",
    "    \n",
    "    #удаляем последнюю строку исходн данных чтобы получились таргеты сдвинуты на 1 день от всех данных\n",
    "    strings_count = data.shape[0]\n",
    "    data.drop([strings_count-1], axis=0,  inplace=True)\n",
    "    \n",
    "    x_train = data[:1600]\n",
    "    y_train = target[:1600]\n",
    "    x_test = data[1600:]\n",
    "    y_test = target[1600:]\n",
    "    \n",
    "    # Лассо\n",
    "    #lasso_regressor = linear_model.Lasso()\n",
    "    #lasso_regressor.fit(x_train, y_train)\n",
    "    #predictions = lasso_regressor.predict(x_test)\n",
    "    \n",
    "    # Линейная регрессия\n",
    "    linear_regressor = linear_model.LinearRegression()\n",
    "    linear_regressor.fit(x_train, y_train)\n",
    "    predictions = linear_regressor.predict(x_test)\n",
    "    \n",
    "    '''\n",
    "    # Random Forest Regressor\n",
    "    rf = RandomForestRegressor(n_estimators=1000,\n",
    "                               max_depth=10,\n",
    "                               max_features=None,\n",
    "                               oob_score=True,\n",
    "                               random_state=42)\n",
    "    rf.fit(x_train, y_train)\n",
    "    predictions = rf.predict(x_test)\n",
    "    '''\n",
    "    \n",
    "    all_predictions.append(predictions)\n",
    "    all_ansvers.append(y_test)\n",
    "    sigma = np.std(y_train)\n",
    "    sigmas.append(sigma)"
   ]
  },
  {
   "cell_type": "code",
   "execution_count": 126,
   "metadata": {
    "colab": {
     "base_uri": "https://localhost:8080/",
     "height": 380
    },
    "executionInfo": {
     "elapsed": 6276,
     "status": "error",
     "timestamp": 1668895103933,
     "user": {
      "displayName": "Владимир Фитузов",
      "userId": "01966531596624912703"
     },
     "user_tz": -180
    },
    "id": "7aJNzUZqFEKz",
    "outputId": "669d2339-a839-4c6e-c246-774004db4393"
   },
   "outputs": [
    {
     "ename": "KeyboardInterrupt",
     "evalue": "",
     "output_type": "error",
     "traceback": [
      "\u001b[1;31m---------------------------------------------------------------------------\u001b[0m",
      "\u001b[1;31mKeyboardInterrupt\u001b[0m                         Traceback (most recent call last)",
      "Input \u001b[1;32mIn [126]\u001b[0m, in \u001b[0;36m<cell line: 37>\u001b[1;34m()\u001b[0m\n\u001b[0;32m     23\u001b[0m \u001b[38;5;66;03m#lasso_regressor = linear_model.Lasso()\u001b[39;00m\n\u001b[0;32m     24\u001b[0m \u001b[38;5;66;03m#lasso_regressor.fit(x_train, y_train)\u001b[39;00m\n\u001b[0;32m     25\u001b[0m \u001b[38;5;66;03m#predictions = lasso_regressor.predict(x_test)\u001b[39;00m\n\u001b[1;32m   (...)\u001b[0m\n\u001b[0;32m     30\u001b[0m \n\u001b[0;32m     31\u001b[0m \u001b[38;5;66;03m# Random Forest Regressor\u001b[39;00m\n\u001b[0;32m     32\u001b[0m rf \u001b[38;5;241m=\u001b[39m RandomForestRegressor(n_estimators\u001b[38;5;241m=\u001b[39m\u001b[38;5;241m1000\u001b[39m,\n\u001b[0;32m     33\u001b[0m                           max_depth\u001b[38;5;241m=\u001b[39m\u001b[38;5;241m10\u001b[39m,\n\u001b[0;32m     34\u001b[0m                           max_features\u001b[38;5;241m=\u001b[39m\u001b[38;5;28;01mNone\u001b[39;00m,\n\u001b[0;32m     35\u001b[0m                           oob_score\u001b[38;5;241m=\u001b[39m\u001b[38;5;28;01mTrue\u001b[39;00m,\n\u001b[0;32m     36\u001b[0m                           random_state\u001b[38;5;241m=\u001b[39m\u001b[38;5;241m42\u001b[39m)\n\u001b[1;32m---> 37\u001b[0m \u001b[43mrf\u001b[49m\u001b[38;5;241;43m.\u001b[39;49m\u001b[43mfit\u001b[49m\u001b[43m(\u001b[49m\u001b[43mx_train\u001b[49m\u001b[43m,\u001b[49m\u001b[43m \u001b[49m\u001b[43my_train\u001b[49m\u001b[43m)\u001b[49m\n\u001b[0;32m     38\u001b[0m predictions \u001b[38;5;241m=\u001b[39m rf\u001b[38;5;241m.\u001b[39mpredict(x_test)\n\u001b[0;32m     40\u001b[0m all_predictions\u001b[38;5;241m.\u001b[39mappend(predictions)\n",
      "File \u001b[1;32m~\\anaconda3\\lib\\site-packages\\sklearn\\ensemble\\_forest.py:450\u001b[0m, in \u001b[0;36mBaseForest.fit\u001b[1;34m(self, X, y, sample_weight)\u001b[0m\n\u001b[0;32m    439\u001b[0m trees \u001b[38;5;241m=\u001b[39m [\n\u001b[0;32m    440\u001b[0m     \u001b[38;5;28mself\u001b[39m\u001b[38;5;241m.\u001b[39m_make_estimator(append\u001b[38;5;241m=\u001b[39m\u001b[38;5;28;01mFalse\u001b[39;00m, random_state\u001b[38;5;241m=\u001b[39mrandom_state)\n\u001b[0;32m    441\u001b[0m     \u001b[38;5;28;01mfor\u001b[39;00m i \u001b[38;5;129;01min\u001b[39;00m \u001b[38;5;28mrange\u001b[39m(n_more_estimators)\n\u001b[0;32m    442\u001b[0m ]\n\u001b[0;32m    444\u001b[0m \u001b[38;5;66;03m# Parallel loop: we prefer the threading backend as the Cython code\u001b[39;00m\n\u001b[0;32m    445\u001b[0m \u001b[38;5;66;03m# for fitting the trees is internally releasing the Python GIL\u001b[39;00m\n\u001b[0;32m    446\u001b[0m \u001b[38;5;66;03m# making threading more efficient than multiprocessing in\u001b[39;00m\n\u001b[0;32m    447\u001b[0m \u001b[38;5;66;03m# that case. However, for joblib 0.12+ we respect any\u001b[39;00m\n\u001b[0;32m    448\u001b[0m \u001b[38;5;66;03m# parallel_backend contexts set at a higher level,\u001b[39;00m\n\u001b[0;32m    449\u001b[0m \u001b[38;5;66;03m# since correctness does not rely on using threads.\u001b[39;00m\n\u001b[1;32m--> 450\u001b[0m trees \u001b[38;5;241m=\u001b[39m \u001b[43mParallel\u001b[49m\u001b[43m(\u001b[49m\n\u001b[0;32m    451\u001b[0m \u001b[43m    \u001b[49m\u001b[43mn_jobs\u001b[49m\u001b[38;5;241;43m=\u001b[39;49m\u001b[38;5;28;43mself\u001b[39;49m\u001b[38;5;241;43m.\u001b[39;49m\u001b[43mn_jobs\u001b[49m\u001b[43m,\u001b[49m\n\u001b[0;32m    452\u001b[0m \u001b[43m    \u001b[49m\u001b[43mverbose\u001b[49m\u001b[38;5;241;43m=\u001b[39;49m\u001b[38;5;28;43mself\u001b[39;49m\u001b[38;5;241;43m.\u001b[39;49m\u001b[43mverbose\u001b[49m\u001b[43m,\u001b[49m\n\u001b[0;32m    453\u001b[0m \u001b[43m    \u001b[49m\u001b[38;5;241;43m*\u001b[39;49m\u001b[38;5;241;43m*\u001b[39;49m\u001b[43m_joblib_parallel_args\u001b[49m\u001b[43m(\u001b[49m\u001b[43mprefer\u001b[49m\u001b[38;5;241;43m=\u001b[39;49m\u001b[38;5;124;43m\"\u001b[39;49m\u001b[38;5;124;43mthreads\u001b[39;49m\u001b[38;5;124;43m\"\u001b[39;49m\u001b[43m)\u001b[49m\u001b[43m,\u001b[49m\n\u001b[0;32m    454\u001b[0m \u001b[43m\u001b[49m\u001b[43m)\u001b[49m\u001b[43m(\u001b[49m\n\u001b[0;32m    455\u001b[0m \u001b[43m    \u001b[49m\u001b[43mdelayed\u001b[49m\u001b[43m(\u001b[49m\u001b[43m_parallel_build_trees\u001b[49m\u001b[43m)\u001b[49m\u001b[43m(\u001b[49m\n\u001b[0;32m    456\u001b[0m \u001b[43m        \u001b[49m\u001b[43mt\u001b[49m\u001b[43m,\u001b[49m\n\u001b[0;32m    457\u001b[0m \u001b[43m        \u001b[49m\u001b[38;5;28;43mself\u001b[39;49m\u001b[43m,\u001b[49m\n\u001b[0;32m    458\u001b[0m \u001b[43m        \u001b[49m\u001b[43mX\u001b[49m\u001b[43m,\u001b[49m\n\u001b[0;32m    459\u001b[0m \u001b[43m        \u001b[49m\u001b[43my\u001b[49m\u001b[43m,\u001b[49m\n\u001b[0;32m    460\u001b[0m \u001b[43m        \u001b[49m\u001b[43msample_weight\u001b[49m\u001b[43m,\u001b[49m\n\u001b[0;32m    461\u001b[0m \u001b[43m        \u001b[49m\u001b[43mi\u001b[49m\u001b[43m,\u001b[49m\n\u001b[0;32m    462\u001b[0m \u001b[43m        \u001b[49m\u001b[38;5;28;43mlen\u001b[39;49m\u001b[43m(\u001b[49m\u001b[43mtrees\u001b[49m\u001b[43m)\u001b[49m\u001b[43m,\u001b[49m\n\u001b[0;32m    463\u001b[0m \u001b[43m        \u001b[49m\u001b[43mverbose\u001b[49m\u001b[38;5;241;43m=\u001b[39;49m\u001b[38;5;28;43mself\u001b[39;49m\u001b[38;5;241;43m.\u001b[39;49m\u001b[43mverbose\u001b[49m\u001b[43m,\u001b[49m\n\u001b[0;32m    464\u001b[0m \u001b[43m        \u001b[49m\u001b[43mclass_weight\u001b[49m\u001b[38;5;241;43m=\u001b[39;49m\u001b[38;5;28;43mself\u001b[39;49m\u001b[38;5;241;43m.\u001b[39;49m\u001b[43mclass_weight\u001b[49m\u001b[43m,\u001b[49m\n\u001b[0;32m    465\u001b[0m \u001b[43m        \u001b[49m\u001b[43mn_samples_bootstrap\u001b[49m\u001b[38;5;241;43m=\u001b[39;49m\u001b[43mn_samples_bootstrap\u001b[49m\u001b[43m,\u001b[49m\n\u001b[0;32m    466\u001b[0m \u001b[43m    \u001b[49m\u001b[43m)\u001b[49m\n\u001b[0;32m    467\u001b[0m \u001b[43m    \u001b[49m\u001b[38;5;28;43;01mfor\u001b[39;49;00m\u001b[43m \u001b[49m\u001b[43mi\u001b[49m\u001b[43m,\u001b[49m\u001b[43m \u001b[49m\u001b[43mt\u001b[49m\u001b[43m \u001b[49m\u001b[38;5;129;43;01min\u001b[39;49;00m\u001b[43m \u001b[49m\u001b[38;5;28;43menumerate\u001b[39;49m\u001b[43m(\u001b[49m\u001b[43mtrees\u001b[49m\u001b[43m)\u001b[49m\n\u001b[0;32m    468\u001b[0m \u001b[43m\u001b[49m\u001b[43m)\u001b[49m\n\u001b[0;32m    470\u001b[0m \u001b[38;5;66;03m# Collect newly grown trees\u001b[39;00m\n\u001b[0;32m    471\u001b[0m \u001b[38;5;28mself\u001b[39m\u001b[38;5;241m.\u001b[39mestimators_\u001b[38;5;241m.\u001b[39mextend(trees)\n",
      "File \u001b[1;32m~\\anaconda3\\lib\\site-packages\\joblib\\parallel.py:1046\u001b[0m, in \u001b[0;36mParallel.__call__\u001b[1;34m(self, iterable)\u001b[0m\n\u001b[0;32m   1043\u001b[0m \u001b[38;5;28;01mif\u001b[39;00m \u001b[38;5;28mself\u001b[39m\u001b[38;5;241m.\u001b[39mdispatch_one_batch(iterator):\n\u001b[0;32m   1044\u001b[0m     \u001b[38;5;28mself\u001b[39m\u001b[38;5;241m.\u001b[39m_iterating \u001b[38;5;241m=\u001b[39m \u001b[38;5;28mself\u001b[39m\u001b[38;5;241m.\u001b[39m_original_iterator \u001b[38;5;129;01mis\u001b[39;00m \u001b[38;5;129;01mnot\u001b[39;00m \u001b[38;5;28;01mNone\u001b[39;00m\n\u001b[1;32m-> 1046\u001b[0m \u001b[38;5;28;01mwhile\u001b[39;00m \u001b[38;5;28;43mself\u001b[39;49m\u001b[38;5;241;43m.\u001b[39;49m\u001b[43mdispatch_one_batch\u001b[49m\u001b[43m(\u001b[49m\u001b[43miterator\u001b[49m\u001b[43m)\u001b[49m:\n\u001b[0;32m   1047\u001b[0m     \u001b[38;5;28;01mpass\u001b[39;00m\n\u001b[0;32m   1049\u001b[0m \u001b[38;5;28;01mif\u001b[39;00m pre_dispatch \u001b[38;5;241m==\u001b[39m \u001b[38;5;124m\"\u001b[39m\u001b[38;5;124mall\u001b[39m\u001b[38;5;124m\"\u001b[39m \u001b[38;5;129;01mor\u001b[39;00m n_jobs \u001b[38;5;241m==\u001b[39m \u001b[38;5;241m1\u001b[39m:\n\u001b[0;32m   1050\u001b[0m     \u001b[38;5;66;03m# The iterable was consumed all at once by the above for loop.\u001b[39;00m\n\u001b[0;32m   1051\u001b[0m     \u001b[38;5;66;03m# No need to wait for async callbacks to trigger to\u001b[39;00m\n\u001b[0;32m   1052\u001b[0m     \u001b[38;5;66;03m# consumption.\u001b[39;00m\n",
      "File \u001b[1;32m~\\anaconda3\\lib\\site-packages\\joblib\\parallel.py:861\u001b[0m, in \u001b[0;36mParallel.dispatch_one_batch\u001b[1;34m(self, iterator)\u001b[0m\n\u001b[0;32m    859\u001b[0m     \u001b[38;5;28;01mreturn\u001b[39;00m \u001b[38;5;28;01mFalse\u001b[39;00m\n\u001b[0;32m    860\u001b[0m \u001b[38;5;28;01melse\u001b[39;00m:\n\u001b[1;32m--> 861\u001b[0m     \u001b[38;5;28;43mself\u001b[39;49m\u001b[38;5;241;43m.\u001b[39;49m\u001b[43m_dispatch\u001b[49m\u001b[43m(\u001b[49m\u001b[43mtasks\u001b[49m\u001b[43m)\u001b[49m\n\u001b[0;32m    862\u001b[0m     \u001b[38;5;28;01mreturn\u001b[39;00m \u001b[38;5;28;01mTrue\u001b[39;00m\n",
      "File \u001b[1;32m~\\anaconda3\\lib\\site-packages\\joblib\\parallel.py:779\u001b[0m, in \u001b[0;36mParallel._dispatch\u001b[1;34m(self, batch)\u001b[0m\n\u001b[0;32m    777\u001b[0m \u001b[38;5;28;01mwith\u001b[39;00m \u001b[38;5;28mself\u001b[39m\u001b[38;5;241m.\u001b[39m_lock:\n\u001b[0;32m    778\u001b[0m     job_idx \u001b[38;5;241m=\u001b[39m \u001b[38;5;28mlen\u001b[39m(\u001b[38;5;28mself\u001b[39m\u001b[38;5;241m.\u001b[39m_jobs)\n\u001b[1;32m--> 779\u001b[0m     job \u001b[38;5;241m=\u001b[39m \u001b[38;5;28;43mself\u001b[39;49m\u001b[38;5;241;43m.\u001b[39;49m\u001b[43m_backend\u001b[49m\u001b[38;5;241;43m.\u001b[39;49m\u001b[43mapply_async\u001b[49m\u001b[43m(\u001b[49m\u001b[43mbatch\u001b[49m\u001b[43m,\u001b[49m\u001b[43m \u001b[49m\u001b[43mcallback\u001b[49m\u001b[38;5;241;43m=\u001b[39;49m\u001b[43mcb\u001b[49m\u001b[43m)\u001b[49m\n\u001b[0;32m    780\u001b[0m     \u001b[38;5;66;03m# A job can complete so quickly than its callback is\u001b[39;00m\n\u001b[0;32m    781\u001b[0m     \u001b[38;5;66;03m# called before we get here, causing self._jobs to\u001b[39;00m\n\u001b[0;32m    782\u001b[0m     \u001b[38;5;66;03m# grow. To ensure correct results ordering, .insert is\u001b[39;00m\n\u001b[0;32m    783\u001b[0m     \u001b[38;5;66;03m# used (rather than .append) in the following line\u001b[39;00m\n\u001b[0;32m    784\u001b[0m     \u001b[38;5;28mself\u001b[39m\u001b[38;5;241m.\u001b[39m_jobs\u001b[38;5;241m.\u001b[39minsert(job_idx, job)\n",
      "File \u001b[1;32m~\\anaconda3\\lib\\site-packages\\joblib\\_parallel_backends.py:208\u001b[0m, in \u001b[0;36mSequentialBackend.apply_async\u001b[1;34m(self, func, callback)\u001b[0m\n\u001b[0;32m    206\u001b[0m \u001b[38;5;28;01mdef\u001b[39;00m \u001b[38;5;21mapply_async\u001b[39m(\u001b[38;5;28mself\u001b[39m, func, callback\u001b[38;5;241m=\u001b[39m\u001b[38;5;28;01mNone\u001b[39;00m):\n\u001b[0;32m    207\u001b[0m     \u001b[38;5;124;03m\"\"\"Schedule a func to be run\"\"\"\u001b[39;00m\n\u001b[1;32m--> 208\u001b[0m     result \u001b[38;5;241m=\u001b[39m \u001b[43mImmediateResult\u001b[49m\u001b[43m(\u001b[49m\u001b[43mfunc\u001b[49m\u001b[43m)\u001b[49m\n\u001b[0;32m    209\u001b[0m     \u001b[38;5;28;01mif\u001b[39;00m callback:\n\u001b[0;32m    210\u001b[0m         callback(result)\n",
      "File \u001b[1;32m~\\anaconda3\\lib\\site-packages\\joblib\\_parallel_backends.py:572\u001b[0m, in \u001b[0;36mImmediateResult.__init__\u001b[1;34m(self, batch)\u001b[0m\n\u001b[0;32m    569\u001b[0m \u001b[38;5;28;01mdef\u001b[39;00m \u001b[38;5;21m__init__\u001b[39m(\u001b[38;5;28mself\u001b[39m, batch):\n\u001b[0;32m    570\u001b[0m     \u001b[38;5;66;03m# Don't delay the application, to avoid keeping the input\u001b[39;00m\n\u001b[0;32m    571\u001b[0m     \u001b[38;5;66;03m# arguments in memory\u001b[39;00m\n\u001b[1;32m--> 572\u001b[0m     \u001b[38;5;28mself\u001b[39m\u001b[38;5;241m.\u001b[39mresults \u001b[38;5;241m=\u001b[39m \u001b[43mbatch\u001b[49m\u001b[43m(\u001b[49m\u001b[43m)\u001b[49m\n",
      "File \u001b[1;32m~\\anaconda3\\lib\\site-packages\\joblib\\parallel.py:262\u001b[0m, in \u001b[0;36mBatchedCalls.__call__\u001b[1;34m(self)\u001b[0m\n\u001b[0;32m    258\u001b[0m \u001b[38;5;28;01mdef\u001b[39;00m \u001b[38;5;21m__call__\u001b[39m(\u001b[38;5;28mself\u001b[39m):\n\u001b[0;32m    259\u001b[0m     \u001b[38;5;66;03m# Set the default nested backend to self._backend but do not set the\u001b[39;00m\n\u001b[0;32m    260\u001b[0m     \u001b[38;5;66;03m# change the default number of processes to -1\u001b[39;00m\n\u001b[0;32m    261\u001b[0m     \u001b[38;5;28;01mwith\u001b[39;00m parallel_backend(\u001b[38;5;28mself\u001b[39m\u001b[38;5;241m.\u001b[39m_backend, n_jobs\u001b[38;5;241m=\u001b[39m\u001b[38;5;28mself\u001b[39m\u001b[38;5;241m.\u001b[39m_n_jobs):\n\u001b[1;32m--> 262\u001b[0m         \u001b[38;5;28;01mreturn\u001b[39;00m [func(\u001b[38;5;241m*\u001b[39margs, \u001b[38;5;241m*\u001b[39m\u001b[38;5;241m*\u001b[39mkwargs)\n\u001b[0;32m    263\u001b[0m                 \u001b[38;5;28;01mfor\u001b[39;00m func, args, kwargs \u001b[38;5;129;01min\u001b[39;00m \u001b[38;5;28mself\u001b[39m\u001b[38;5;241m.\u001b[39mitems]\n",
      "File \u001b[1;32m~\\anaconda3\\lib\\site-packages\\joblib\\parallel.py:262\u001b[0m, in \u001b[0;36m<listcomp>\u001b[1;34m(.0)\u001b[0m\n\u001b[0;32m    258\u001b[0m \u001b[38;5;28;01mdef\u001b[39;00m \u001b[38;5;21m__call__\u001b[39m(\u001b[38;5;28mself\u001b[39m):\n\u001b[0;32m    259\u001b[0m     \u001b[38;5;66;03m# Set the default nested backend to self._backend but do not set the\u001b[39;00m\n\u001b[0;32m    260\u001b[0m     \u001b[38;5;66;03m# change the default number of processes to -1\u001b[39;00m\n\u001b[0;32m    261\u001b[0m     \u001b[38;5;28;01mwith\u001b[39;00m parallel_backend(\u001b[38;5;28mself\u001b[39m\u001b[38;5;241m.\u001b[39m_backend, n_jobs\u001b[38;5;241m=\u001b[39m\u001b[38;5;28mself\u001b[39m\u001b[38;5;241m.\u001b[39m_n_jobs):\n\u001b[1;32m--> 262\u001b[0m         \u001b[38;5;28;01mreturn\u001b[39;00m [func(\u001b[38;5;241m*\u001b[39margs, \u001b[38;5;241m*\u001b[39m\u001b[38;5;241m*\u001b[39mkwargs)\n\u001b[0;32m    263\u001b[0m                 \u001b[38;5;28;01mfor\u001b[39;00m func, args, kwargs \u001b[38;5;129;01min\u001b[39;00m \u001b[38;5;28mself\u001b[39m\u001b[38;5;241m.\u001b[39mitems]\n",
      "File \u001b[1;32m~\\anaconda3\\lib\\site-packages\\sklearn\\utils\\fixes.py:216\u001b[0m, in \u001b[0;36m_FuncWrapper.__call__\u001b[1;34m(self, *args, **kwargs)\u001b[0m\n\u001b[0;32m    214\u001b[0m \u001b[38;5;28;01mdef\u001b[39;00m \u001b[38;5;21m__call__\u001b[39m(\u001b[38;5;28mself\u001b[39m, \u001b[38;5;241m*\u001b[39margs, \u001b[38;5;241m*\u001b[39m\u001b[38;5;241m*\u001b[39mkwargs):\n\u001b[0;32m    215\u001b[0m     \u001b[38;5;28;01mwith\u001b[39;00m config_context(\u001b[38;5;241m*\u001b[39m\u001b[38;5;241m*\u001b[39m\u001b[38;5;28mself\u001b[39m\u001b[38;5;241m.\u001b[39mconfig):\n\u001b[1;32m--> 216\u001b[0m         \u001b[38;5;28;01mreturn\u001b[39;00m \u001b[38;5;28mself\u001b[39m\u001b[38;5;241m.\u001b[39mfunction(\u001b[38;5;241m*\u001b[39margs, \u001b[38;5;241m*\u001b[39m\u001b[38;5;241m*\u001b[39mkwargs)\n",
      "File \u001b[1;32m~\\anaconda3\\lib\\site-packages\\sklearn\\ensemble\\_forest.py:185\u001b[0m, in \u001b[0;36m_parallel_build_trees\u001b[1;34m(tree, forest, X, y, sample_weight, tree_idx, n_trees, verbose, class_weight, n_samples_bootstrap)\u001b[0m\n\u001b[0;32m    182\u001b[0m     \u001b[38;5;28;01melif\u001b[39;00m class_weight \u001b[38;5;241m==\u001b[39m \u001b[38;5;124m\"\u001b[39m\u001b[38;5;124mbalanced_subsample\u001b[39m\u001b[38;5;124m\"\u001b[39m:\n\u001b[0;32m    183\u001b[0m         curr_sample_weight \u001b[38;5;241m*\u001b[39m\u001b[38;5;241m=\u001b[39m compute_sample_weight(\u001b[38;5;124m\"\u001b[39m\u001b[38;5;124mbalanced\u001b[39m\u001b[38;5;124m\"\u001b[39m, y, indices\u001b[38;5;241m=\u001b[39mindices)\n\u001b[1;32m--> 185\u001b[0m     \u001b[43mtree\u001b[49m\u001b[38;5;241;43m.\u001b[39;49m\u001b[43mfit\u001b[49m\u001b[43m(\u001b[49m\u001b[43mX\u001b[49m\u001b[43m,\u001b[49m\u001b[43m \u001b[49m\u001b[43my\u001b[49m\u001b[43m,\u001b[49m\u001b[43m \u001b[49m\u001b[43msample_weight\u001b[49m\u001b[38;5;241;43m=\u001b[39;49m\u001b[43mcurr_sample_weight\u001b[49m\u001b[43m,\u001b[49m\u001b[43m \u001b[49m\u001b[43mcheck_input\u001b[49m\u001b[38;5;241;43m=\u001b[39;49m\u001b[38;5;28;43;01mFalse\u001b[39;49;00m\u001b[43m)\u001b[49m\n\u001b[0;32m    186\u001b[0m \u001b[38;5;28;01melse\u001b[39;00m:\n\u001b[0;32m    187\u001b[0m     tree\u001b[38;5;241m.\u001b[39mfit(X, y, sample_weight\u001b[38;5;241m=\u001b[39msample_weight, check_input\u001b[38;5;241m=\u001b[39m\u001b[38;5;28;01mFalse\u001b[39;00m)\n",
      "File \u001b[1;32m~\\anaconda3\\lib\\site-packages\\sklearn\\tree\\_classes.py:1315\u001b[0m, in \u001b[0;36mDecisionTreeRegressor.fit\u001b[1;34m(self, X, y, sample_weight, check_input, X_idx_sorted)\u001b[0m\n\u001b[0;32m   1278\u001b[0m \u001b[38;5;28;01mdef\u001b[39;00m \u001b[38;5;21mfit\u001b[39m(\n\u001b[0;32m   1279\u001b[0m     \u001b[38;5;28mself\u001b[39m, X, y, sample_weight\u001b[38;5;241m=\u001b[39m\u001b[38;5;28;01mNone\u001b[39;00m, check_input\u001b[38;5;241m=\u001b[39m\u001b[38;5;28;01mTrue\u001b[39;00m, X_idx_sorted\u001b[38;5;241m=\u001b[39m\u001b[38;5;124m\"\u001b[39m\u001b[38;5;124mdeprecated\u001b[39m\u001b[38;5;124m\"\u001b[39m\n\u001b[0;32m   1280\u001b[0m ):\n\u001b[0;32m   1281\u001b[0m     \u001b[38;5;124;03m\"\"\"Build a decision tree regressor from the training set (X, y).\u001b[39;00m\n\u001b[0;32m   1282\u001b[0m \n\u001b[0;32m   1283\u001b[0m \u001b[38;5;124;03m    Parameters\u001b[39;00m\n\u001b[1;32m   (...)\u001b[0m\n\u001b[0;32m   1312\u001b[0m \u001b[38;5;124;03m        Fitted estimator.\u001b[39;00m\n\u001b[0;32m   1313\u001b[0m \u001b[38;5;124;03m    \"\"\"\u001b[39;00m\n\u001b[1;32m-> 1315\u001b[0m     \u001b[38;5;28;43msuper\u001b[39;49m\u001b[43m(\u001b[49m\u001b[43m)\u001b[49m\u001b[38;5;241;43m.\u001b[39;49m\u001b[43mfit\u001b[49m\u001b[43m(\u001b[49m\n\u001b[0;32m   1316\u001b[0m \u001b[43m        \u001b[49m\u001b[43mX\u001b[49m\u001b[43m,\u001b[49m\n\u001b[0;32m   1317\u001b[0m \u001b[43m        \u001b[49m\u001b[43my\u001b[49m\u001b[43m,\u001b[49m\n\u001b[0;32m   1318\u001b[0m \u001b[43m        \u001b[49m\u001b[43msample_weight\u001b[49m\u001b[38;5;241;43m=\u001b[39;49m\u001b[43msample_weight\u001b[49m\u001b[43m,\u001b[49m\n\u001b[0;32m   1319\u001b[0m \u001b[43m        \u001b[49m\u001b[43mcheck_input\u001b[49m\u001b[38;5;241;43m=\u001b[39;49m\u001b[43mcheck_input\u001b[49m\u001b[43m,\u001b[49m\n\u001b[0;32m   1320\u001b[0m \u001b[43m        \u001b[49m\u001b[43mX_idx_sorted\u001b[49m\u001b[38;5;241;43m=\u001b[39;49m\u001b[43mX_idx_sorted\u001b[49m\u001b[43m,\u001b[49m\n\u001b[0;32m   1321\u001b[0m \u001b[43m    \u001b[49m\u001b[43m)\u001b[49m\n\u001b[0;32m   1322\u001b[0m     \u001b[38;5;28;01mreturn\u001b[39;00m \u001b[38;5;28mself\u001b[39m\n",
      "File \u001b[1;32m~\\anaconda3\\lib\\site-packages\\sklearn\\tree\\_classes.py:420\u001b[0m, in \u001b[0;36mBaseDecisionTree.fit\u001b[1;34m(self, X, y, sample_weight, check_input, X_idx_sorted)\u001b[0m\n\u001b[0;32m    409\u001b[0m \u001b[38;5;28;01melse\u001b[39;00m:\n\u001b[0;32m    410\u001b[0m     builder \u001b[38;5;241m=\u001b[39m BestFirstTreeBuilder(\n\u001b[0;32m    411\u001b[0m         splitter,\n\u001b[0;32m    412\u001b[0m         min_samples_split,\n\u001b[1;32m   (...)\u001b[0m\n\u001b[0;32m    417\u001b[0m         \u001b[38;5;28mself\u001b[39m\u001b[38;5;241m.\u001b[39mmin_impurity_decrease,\n\u001b[0;32m    418\u001b[0m     )\n\u001b[1;32m--> 420\u001b[0m \u001b[43mbuilder\u001b[49m\u001b[38;5;241;43m.\u001b[39;49m\u001b[43mbuild\u001b[49m\u001b[43m(\u001b[49m\u001b[38;5;28;43mself\u001b[39;49m\u001b[38;5;241;43m.\u001b[39;49m\u001b[43mtree_\u001b[49m\u001b[43m,\u001b[49m\u001b[43m \u001b[49m\u001b[43mX\u001b[49m\u001b[43m,\u001b[49m\u001b[43m \u001b[49m\u001b[43my\u001b[49m\u001b[43m,\u001b[49m\u001b[43m \u001b[49m\u001b[43msample_weight\u001b[49m\u001b[43m)\u001b[49m\n\u001b[0;32m    422\u001b[0m \u001b[38;5;28;01mif\u001b[39;00m \u001b[38;5;28mself\u001b[39m\u001b[38;5;241m.\u001b[39mn_outputs_ \u001b[38;5;241m==\u001b[39m \u001b[38;5;241m1\u001b[39m \u001b[38;5;129;01mand\u001b[39;00m is_classifier(\u001b[38;5;28mself\u001b[39m):\n\u001b[0;32m    423\u001b[0m     \u001b[38;5;28mself\u001b[39m\u001b[38;5;241m.\u001b[39mn_classes_ \u001b[38;5;241m=\u001b[39m \u001b[38;5;28mself\u001b[39m\u001b[38;5;241m.\u001b[39mn_classes_[\u001b[38;5;241m0\u001b[39m]\n",
      "\u001b[1;31mKeyboardInterrupt\u001b[0m: "
     ]
    }
   ],
   "source": [
    "# Записываем результаты обученной модели\n",
    "all_predictions = []\n",
    "all_ansvers = []\n",
    "sigmas = []\n",
    "\n",
    "item = 'CHMF'\n",
    "data = original_data.copy()\n",
    "target = data[item]\n",
    "target = np.array(target)\n",
    "target = target[1:]\n",
    "\n",
    "#удаляем последнюю строку исходн данных чтобы получились таргеты сдвинуты на 1 день от всех данных\n",
    "strings_count = data.shape[0]\n",
    "data.drop([strings_count-1], axis=0,  inplace=True) \n",
    "#print('data[item][101:102]: ', data[item][101:102])\n",
    "#print('target[100]: ', target[100])\n",
    "\n",
    "x_train = data[:1600]\n",
    "y_train = target[:1600]\n",
    "x_test = data[1600:]\n",
    "y_test = target[1600:]\n",
    "\n",
    "#lasso_regressor = linear_model.Lasso()\n",
    "#lasso_regressor.fit(x_train, y_train)\n",
    "#predictions = lasso_regressor.predict(x_test)\n",
    "\n",
    "#linear_regressor = linear_model.LinearRegression()\n",
    "#linear_regressor.fit(x_train, y_train)\n",
    "#predictions = linear_regressor.predict(x_test)\n",
    "\n",
    "# Random Forest Regressor\n",
    "rf = RandomForestRegressor(n_estimators=1000,\n",
    "                          max_depth=10,\n",
    "                          max_features=None,\n",
    "                          oob_score=True,\n",
    "                          random_state=42)\n",
    "rf.fit(x_train, y_train)\n",
    "predictions = rf.predict(x_test)\n",
    "\n",
    "all_predictions.append(predictions)\n",
    "all_ansvers.append(y_test)\n",
    "sigma = np.std(y_train)\n",
    "sigmas.append(sigma)"
   ]
  },
  {
   "cell_type": "code",
   "execution_count": 140,
   "metadata": {
    "colab": {
     "base_uri": "https://localhost:8080/"
    },
    "executionInfo": {
     "elapsed": 18,
     "status": "ok",
     "timestamp": 1668946620479,
     "user": {
      "displayName": "Владимир Фитузов",
      "userId": "01966531596624912703"
     },
     "user_tz": -180
    },
    "id": "o8aiJ4wMhEv0",
    "outputId": "808d7cd9-eb2a-4026-be4a-e5eef3728e23"
   },
   "outputs": [
    {
     "name": "stdout",
     "output_type": "stream",
     "text": [
      "(38, 768) (38, 768)\n",
      "(768, 38) (768, 38)\n"
     ]
    }
   ],
   "source": [
    "# Транспонируем для удобства массивы предсказанных отклонений и ответов\n",
    "all_predictions = np.array(all_predictions)\n",
    "all_ansvers = np.array(all_ansvers)\n",
    "print(all_predictions.shape, all_ansvers.shape)\n",
    "all_predictions = all_predictions.transpose()\n",
    "all_ansvers = all_ansvers.transpose()\n",
    "print(all_predictions.shape, all_ansvers.shape)\n"
   ]
  },
  {
   "cell_type": "markdown",
   "metadata": {
    "id": "bMwMCy0IsRuw"
   },
   "source": [
    "# Только Long"
   ]
  },
  {
   "cell_type": "markdown",
   "metadata": {},
   "source": [
    "#  Результаты по отдельно взятому отклонению прогноза"
   ]
  },
  {
   "cell_type": "code",
   "execution_count": 124,
   "metadata": {
    "colab": {
     "base_uri": "https://localhost:8080/",
     "height": 1000
    },
    "executionInfo": {
     "elapsed": 689,
     "status": "ok",
     "timestamp": 1668947137617,
     "user": {
      "displayName": "Владимир Фитузов",
      "userId": "01966531596624912703"
     },
     "user_tz": -180
    },
    "id": "tlRTIkgh6K3f",
    "outputId": "6f2fc693-b4d1-4d58-b2cf-47f255079b58"
   },
   "outputs": [
    {
     "name": "stdout",
     "output_type": "stream",
     "text": [
      "768 38\n",
      "    pft_per_deal       P_E  overal_profit      profit        loss  dls_count\n",
      "0       0.009826  1.016053       3.596484  227.634388 -224.037904        366\n",
      "1       0.038284  1.099862      13.475894  148.420574 -134.944680        352\n",
      "2       0.180178  1.273274      69.548862  324.050715 -254.501853        386\n",
      "3       0.162518  1.242313      62.081696  318.285736 -256.204040        382\n",
      "4      -0.174314  0.703457     -52.468644  124.465765 -176.934409        301\n",
      "5       0.031402  1.051270      12.937714  265.281907 -252.344193        412\n",
      "6       0.056167  1.092937      20.444751  240.429236 -219.984485        364\n",
      "7       0.065116  1.180192      24.158010  158.226303 -134.068293        371\n",
      "8       0.101456  1.155789      38.553254  286.024741 -247.471487        380\n",
      "9       0.403305  1.773057     131.880755  302.477207 -170.596452        327\n",
      "10     -0.009724  0.988590      -4.375871  379.143720 -383.519590        450\n",
      "11      0.236446  1.350970      87.958047  338.572473 -250.614426        372\n",
      "12      0.118307  1.304232      40.815778  174.975951 -134.160174        345\n",
      "13      0.169936  1.218952      63.216319  351.938927 -288.722607        372\n",
      "14      0.261825  1.522397     102.897266  299.868765 -196.971499        393\n",
      "15      0.193182  1.347603      67.420567  261.379222 -193.958655        349\n",
      "16      0.125137  1.212660      49.679239  283.287569 -233.608330        397\n",
      "17     -0.013348  0.974388      -4.458305  169.609824 -174.068130        334\n",
      "18      0.171945  1.298731      63.103797  274.343425 -211.239628        367\n",
      "19     -0.006608  0.991128      -3.079142  343.969602 -347.048745        466\n",
      "20      0.037396  1.059274      13.387935  239.253112 -225.865177        358\n",
      "21     -0.086223  0.867299     -33.023439  215.833069 -248.856509        383\n",
      "22      0.133978  1.227339      49.169933  265.454846 -216.284913        367\n",
      "23      0.042437  1.058125      14.767990  268.841566 -254.073576        348\n",
      "24      0.131159  1.173590      49.709127  336.068795 -286.359668        379\n",
      "25      0.202942  1.423157      72.044560  242.299523 -170.254962        355\n",
      "26      0.467009  1.598091     155.513921  415.531271 -260.017350        333\n",
      "27      0.341694  1.437427     116.859324  384.010771 -267.151448        342\n",
      "28     -0.014621  0.975617      -5.248849  210.021382 -215.270232        359\n",
      "29      0.115658  1.174754      41.521239  279.119915 -237.598675        359\n",
      "30      0.037878  1.065207      14.393502  235.128645 -220.735143        380\n",
      "31      0.056262  1.108179      19.297840  197.686662 -178.388822        343\n",
      "32      0.144038  1.276114      56.606803  261.619214 -205.012410        393\n",
      "33      0.047640  1.052838      18.103251  360.720162 -342.616911        380\n",
      "34      0.112966  1.208893      43.943895  254.309891 -210.365996        389\n",
      "35      0.153371  1.214679      55.673849  315.009004 -259.335154        363\n",
      "36      0.209963  1.252943      74.536814  369.215427 -294.678613        355\n",
      "37      0.293955  1.468695     115.524490  362.005801 -246.481311        393\n"
     ]
    },
    {
     "data": {
      "text/plain": [
       "[<matplotlib.lines.Line2D at 0x1caac593b80>]"
      ]
     },
     "execution_count": 124,
     "metadata": {},
     "output_type": "execute_result"
    },
    {
     "data": {
      "image/png": "[encoded data removed]",
      "text/plain": [
       "<Figure size 432x288 with 1 Axes>"
      ]
     },
     "metadata": {},
     "output_type": "display_data"
    }
   ],
   "source": [
    "# Только Long\n",
    "strings_count, rows_count = all_predictions.shape\n",
    "print(strings_count, rows_count)\n",
    "accumulation = 0\n",
    "accumulation_list = []\n",
    "\n",
    "otkl = 0.02\n",
    "\n",
    "result_by_stocks = []\n",
    "for j in range(0, rows_count):\n",
    "    deals_count = 0\n",
    "    profit = 0\n",
    "    loss = 0\n",
    "    for i in range(0, strings_count):\n",
    "        if all_predictions[i][j] >  otkl*sigmas[j]:\n",
    "            curr_rslt = all_ansvers[i,j]\n",
    "            accumulation = accumulation + curr_rslt\n",
    "            accumulation_list.append(accumulation)\n",
    "            if curr_rslt > 0 and curr_rslt < 80: # Фильтр от слишком больших колебаний.\n",
    "                profit = profit + curr_rslt\n",
    "                deals_count = deals_count + 1\n",
    "            if  curr_rslt <= 0 and curr_rslt > -80: # Фильтр от слишком больших колебаний.\n",
    "                loss = loss + curr_rslt\n",
    "                deals_count = deals_count + 1\n",
    "    if loss == 0:\n",
    "        P_E = 0\n",
    "    else:\n",
    "        P_E = -profit / loss\n",
    "    overal_profit = profit + loss\n",
    "    if deals_count == 0:\n",
    "        profit_per_deal = 0\n",
    "    else:\n",
    "        profit_per_deal = overal_profit / deals_count\n",
    "    result_by_stocks.append([profit_per_deal,P_E,overal_profit,profit,loss,deals_count])\n",
    "\n",
    "\n",
    "#result_by_stocks = np.array(result_by_stocks)\n",
    "result_by_stocks = pd.DataFrame(result_by_stocks)\n",
    "result_by_stocks.columns = ['pft_per_deal','P_E','overal_profit','profit','loss','dls_count']\n",
    "print(result_by_stocks)\n",
    "plt.plot(accumulation_list)"
   ]
  },
  {
   "cell_type": "markdown",
   "metadata": {},
   "source": [
    "# Результаты по множеству отклонений прогноза"
   ]
  },
  {
   "cell_type": "markdown",
   "metadata": {},
   "source": [
    "Записываем общие результаты"
   ]
  },
  {
   "cell_type": "code",
   "execution_count": 142,
   "metadata": {},
   "outputs": [
    {
     "data": {
      "text/plain": [
       "(768, 38)"
      ]
     },
     "execution_count": 142,
     "metadata": {},
     "output_type": "execute_result"
    }
   ],
   "source": [
    "all_predictions.shape"
   ]
  },
  {
   "cell_type": "code",
   "execution_count": 154,
   "metadata": {
    "colab": {
     "base_uri": "https://localhost:8080/"
    },
    "executionInfo": {
     "elapsed": 683,
     "status": "ok",
     "timestamp": 1668947023579,
     "user": {
      "displayName": "Владимир Фитузов",
      "userId": "01966531596624912703"
     },
     "user_tz": -180
    },
    "id": "7KUtuaeskp5j",
    "outputId": "45a2cde9-2403-4bc2-bbc4-78ae956764c7"
   },
   "outputs": [
    {
     "name": "stdout",
     "output_type": "stream",
     "text": [
      "(19, 38, 6)\n"
     ]
    }
   ],
   "source": [
    "strings_count, rows_count = all_predictions.shape\n",
    "overal_results = []\n",
    "\n",
    "min_otkl = 0.02\n",
    "max_otkl = 0.4\n",
    "step = 0.02\n",
    "for otkl in np.arange(min_otkl, max_otkl, step):\n",
    "    result_by_stocks = []\n",
    "    for j in range(0, rows_count):\n",
    "        deals_count = 0\n",
    "        profit = 0\n",
    "        loss = 0\n",
    "        for i in range(0, strings_count):\n",
    "            if all_predictions[i][j] >  otkl*sigmas[j]:\n",
    "                curr_rslt = all_ansvers[i,j]\n",
    "                if curr_rslt > 0 and curr_rslt < 80:\n",
    "                    profit = profit + curr_rslt\n",
    "                    deals_count = deals_count + 1\n",
    "                if  curr_rslt < 0 and curr_rslt > -80:\n",
    "                    loss = loss + curr_rslt\n",
    "                    deals_count = deals_count + 1\n",
    "        if loss == 0:\n",
    "            P_E = 0\n",
    "        else:\n",
    "            P_E = -profit / loss\n",
    "        overal_profit = profit + loss\n",
    "        if deals_count == 0:\n",
    "            profit_per_deal = 0\n",
    "        else:\n",
    "            profit_per_deal = overal_profit / deals_count\n",
    "        result_by_stocks.append([profit_per_deal,P_E,overal_profit,profit,loss,deals_count])\n",
    "    overal_results.append(result_by_stocks)\n",
    "\n",
    "overal_results = np.array(overal_results)\n",
    "print(overal_results.shape)"
   ]
  },
  {
   "cell_type": "code",
   "execution_count": 155,
   "metadata": {
    "colab": {
     "base_uri": "https://localhost:8080/",
     "height": 235
    },
    "executionInfo": {
     "elapsed": 734,
     "status": "error",
     "timestamp": 1668947217068,
     "user": {
      "displayName": "Владимир Фитузов",
      "userId": "01966531596624912703"
     },
     "user_tz": -180
    },
    "id": "yylzbkh-lMEP",
    "outputId": "94a643f8-ada4-43e5-92f4-9752c2dfd706"
   },
   "outputs": [
    {
     "name": "stdout",
     "output_type": "stream",
     "text": [
      "(19, 38, 6)\n",
      "    otkl    count       P_L  overal_profit  overal_mean_profit\n",
      "0   0.02  13827.0  1.188135    1660.168656            0.120067\n",
      "1   0.04  12671.0  1.202413    1639.349510            0.129378\n",
      "2   0.06  11522.0  1.198387    1477.752994            0.128255\n",
      "3   0.08  10431.0  1.203969    1380.460403            0.132342\n",
      "4   0.10   9396.0  1.203538    1247.584593            0.132778\n",
      "5   0.12   8426.0  1.186549    1037.432039            0.123123\n",
      "6   0.14   7499.0  1.163461     829.676216            0.110638\n",
      "7   0.16   6639.0  1.158871     727.991650            0.109654\n",
      "8   0.18   5875.0  1.158278     648.850403            0.110443\n",
      "9   0.20   5169.0  1.148454     547.242394            0.105870\n",
      "10  0.22   4563.0  1.160319     523.544824            0.114737\n",
      "11  0.24   3995.0  1.156934     456.443910            0.114254\n",
      "12  0.26   3507.0  1.148846     391.419440            0.111611\n",
      "13  0.28   3065.0  1.123157     289.787237            0.094547\n",
      "14  0.30   2669.0  1.096846     204.189975            0.076504\n",
      "15  0.32   2309.0  1.105652     196.919078            0.085283\n",
      "16  0.34   2016.0  1.111843     186.493151            0.092507\n",
      "17  0.36   1776.0  1.097976     148.196437            0.083444\n",
      "18  0.38   1569.0  1.089081     122.313271            0.077956\n"
     ]
    }
   ],
   "source": [
    "#Результаты Общие все акции\n",
    "print(overal_results.shape)\n",
    "P_L_list = []\n",
    "overal_profit_list = []\n",
    "overal_mean_profit_list = []\n",
    "count_list = []\n",
    "results = []\n",
    "for i in range(0, int((max_otkl-min_otkl)/step)):\n",
    "    profit_list = overal_results[i,:,3]\n",
    "    loss_list = overal_results[i,:,4]\n",
    "    cleared_profit_list = []\n",
    "    cleared_loss_list = []\n",
    "    count = 0\n",
    "    for j in range(0, profit_list.shape[0]):\n",
    "        count = count + overal_results[i,j,5]\n",
    "        if profit_list[j] > 0:\n",
    "            cleared_profit_list.append(profit_list[j])\n",
    "        if loss_list[j] < 0:\n",
    "            cleared_loss_list.append(loss_list[j])\n",
    "    if sum(cleared_loss_list) < 0:\n",
    "        P_L = -sum(cleared_profit_list) / sum(cleared_loss_list)\n",
    "    else:\n",
    "        P_L = 0\n",
    "    overal_profit = sum(cleared_profit_list) + sum(cleared_loss_list)\n",
    "    overal_mean_profit = overal_profit / count\n",
    "    otkl = min_otkl + i * step\n",
    "    results.append((otkl, count,P_L,overal_profit,overal_mean_profit))\n",
    "    '''\n",
    "    count_list.append(count)\n",
    "    P_L_list.append(P_L)\n",
    "    overal_profit_list.append(overal_profit)\n",
    "    overal_mean_profit_list.append(overal_mean_profit)\n",
    "    '''\n",
    "    \n",
    "results = pd.DataFrame(results)\n",
    "results.columns = ['otkl', 'count', 'P_L', 'overal_profit', 'overal_mean_profit']\n",
    "print(results)"
   ]
  },
  {
   "cell_type": "code",
   "execution_count": 84,
   "metadata": {
    "id": "8ytU0RYGlMEd"
   },
   "outputs": [
    {
     "name": "stdout",
     "output_type": "stream",
     "text": [
      "count 28706.0 P_L 0.9062870468455136 overal_mean_profit -0.06571321476407149 overal_profit -1886.3635430174363\n"
     ]
    }
   ],
   "source": [
    "#Выбранное отклонение\n",
    "otkl = 0.12\n",
    "ind = int((otkl-min_otkl)/step)\n",
    "print('count', count_list[ind], 'P_L', P_L_list[ind],'overal_mean_profit', overal_mean_profit_list[ind], 'overal_profit', overal_profit_list[ind])"
   ]
  },
  {
   "cell_type": "code",
   "execution_count": 157,
   "metadata": {
    "id": "Ga_Mmw7ElMEi"
   },
   "outputs": [
    {
     "data": {
      "text/plain": [
       "[<matplotlib.lines.Line2D at 0x1caaf254700>]"
      ]
     },
     "execution_count": 157,
     "metadata": {},
     "output_type": "execute_result"
    },
    {
     "data": {
      "image/png": "[encoded data removed]",
      "text/plain": [
       "<Figure size 432x288 with 1 Axes>"
      ]
     },
     "metadata": {},
     "output_type": "display_data"
    }
   ],
   "source": [
    "#График P_L\n",
    "plt.plot(np.arange(min_otkl, max_otkl, step), results['P_L'])"
   ]
  },
  {
   "cell_type": "code",
   "execution_count": 158,
   "metadata": {
    "id": "z86gzWMRlMEn"
   },
   "outputs": [
    {
     "data": {
      "text/plain": [
       "[<matplotlib.lines.Line2D at 0x1caaf5ce190>]"
      ]
     },
     "execution_count": 158,
     "metadata": {},
     "output_type": "execute_result"
    },
    {
     "data": {
      "image/png": "[encoded data removed]",
      "text/plain": [
       "<Figure size 432x288 with 1 Axes>"
      ]
     },
     "metadata": {},
     "output_type": "display_data"
    }
   ],
   "source": [
    "#График overal_mean_profit\n",
    "plt.plot(np.arange(min_otkl, max_otkl, step), results['overal_mean_profit'])"
   ]
  },
  {
   "cell_type": "markdown",
   "metadata": {},
   "source": [
    "Результаты анализа линейных моделей и случайного леса в приминенинии к прогнозу изменения дневных цен акций по изменению цен предыдущего дня для ликвидных российских компаний не позволяют сделать выводы о потенциальной практической значимости данного подхода."
   ]
  }
 ],
 "metadata": {
  "accelerator": "GPU",
  "colab": {
   "authorship_tag": "ABX9TyPcaL8/rtYmwlKV0XLjBJhF",
   "mount_file_id": "1O2bHzMyDgxF9-9R00cTRfer1KUv-SYcY",
   "provenance": []
  },
  "kernelspec": {
   "display_name": "Python 3 (ipykernel)",
   "language": "python",
   "name": "python3"
  },
  "language_info": {
   "codemirror_mode": {
    "name": "ipython",
    "version": 3
   },
   "file_extension": ".py",
   "mimetype": "text/x-python",
   "name": "python",
   "nbconvert_exporter": "python",
   "pygments_lexer": "ipython3",
   "version": "3.9.12"
  }
 },
 "nbformat": 4,
 "nbformat_minor": 1
}
